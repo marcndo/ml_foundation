{
 "cells": [
  {
   "cell_type": "markdown",
   "id": "a6a72e8c",
   "metadata": {},
   "source": [
    "# Notebook 2: Model Building, Evaluation, and Comparison"
   ]
  },
  {
   "cell_type": "markdown",
   "id": "9ddf5fc8",
   "metadata": {},
   "source": [
    "## 1. Introduction (Notebook 2)\n",
    "### Project Overview\n",
    "This notebook builds upon the insights gained from the exploratory data analysis conducted in the preceding notebook. Here, we focus on developing, evaluating, and comparing the performance of several supervised machine learning regression models for predicting house prices. By experimenting with different algorithms and analyzing their error metrics, we aim to identify the most effective approach for this task and provide a foundation for a practical algorithm selection guide to be published.\n",
    "### Data Description\n",
    "The dataset utilized in this analysis, the Melbourne Housing Snapshot, provides detailed information on residential properties sold in Melbourne, Australia. Features include square footage, number of bedrooms and bathrooms, year built, lot size, address, property type, and other pertinent characteristics. The target variable is the sale price of each house. This [dataset](https://www.kaggle.com/datasets/dansbecker/melbourne-housing-snapshot), obtained from [Kaggle](https://www.kaggle.com/), offers a valuable resource for examining the impact of diverse property attributes on market value. It encompasses both numerical and categorical data types, enabling a comprehensive analysis. This is the same dataset that was explored and prepared in the previous Notebook.\n",
    "### Objective:\n",
    "The goals of this notebook are:\n",
    "+ To train and evaluate a variety of supervised machine learning regression models for house price prediction.\n",
    "+ To utilize appropriate error metrics to assess and compare the predictive performance of each model.\n",
    "+ To document the performance of each algorithm, providing a clear basis for comparison and analysis in the culminating Medium article."
   ]
  },
  {
   "cell_type": "code",
   "execution_count": null,
   "id": "6d1a205e",
   "metadata": {},
   "outputs": [],
   "source": []
  },
  {
   "cell_type": "code",
   "execution_count": null,
   "id": "7eaae607",
   "metadata": {},
   "outputs": [],
   "source": []
  },
  {
   "cell_type": "code",
   "execution_count": null,
   "id": "0b3ace74",
   "metadata": {},
   "outputs": [],
   "source": []
  },
  {
   "cell_type": "code",
   "execution_count": null,
   "id": "8b796a83",
   "metadata": {},
   "outputs": [],
   "source": []
  },
  {
   "cell_type": "code",
   "execution_count": null,
   "id": "43ce6d68",
   "metadata": {},
   "outputs": [],
   "source": []
  },
  {
   "cell_type": "code",
   "execution_count": null,
   "id": "ddb857e0",
   "metadata": {},
   "outputs": [],
   "source": []
  },
  {
   "cell_type": "code",
   "execution_count": null,
   "id": "ac2cd1eb",
   "metadata": {},
   "outputs": [],
   "source": []
  },
  {
   "cell_type": "code",
   "execution_count": null,
   "id": "326648d1",
   "metadata": {},
   "outputs": [],
   "source": []
  },
  {
   "cell_type": "code",
   "execution_count": null,
   "id": "7cfc0905",
   "metadata": {},
   "outputs": [],
   "source": []
  }
 ],
 "metadata": {
  "hide_input": false,
  "kernelspec": {
   "display_name": "Python 3 (ipykernel)",
   "language": "python",
   "name": "python3"
  },
  "language_info": {
   "codemirror_mode": {
    "name": "ipython",
    "version": 3
   },
   "file_extension": ".py",
   "mimetype": "text/x-python",
   "name": "python",
   "nbconvert_exporter": "python",
   "pygments_lexer": "ipython3",
   "version": "3.11.7"
  }
 },
 "nbformat": 4,
 "nbformat_minor": 5
}
